{
 "cells": [
  {
   "cell_type": "markdown",
   "metadata": {},
   "source": [
    "\n",
    "In this assignment your task is to implement\n",
    "\n",
    "1. an univaritare Gaussian Classifier and\n",
    "\n",
    "2. an bivariate Gaussian Classifier\n",
    "\n",
    "both using MLE parameter estimation."
   ]
  },
  {
   "cell_type": "markdown",
   "metadata": {},
   "source": [
    "**Submission:**\n",
    "\n",
    "Submit your code to Canvas no later than **6th of December!**\n",
    "\n",
    "Comment your code and use reasonable variable names so I am able to follow.\n",
    "\n",
    "You can make use of basic numpy functions such as exp(), sum(), arange().\n",
    "\n",
    "Obviously, you should not make use of build in functions like numpy.std() or numpy.mean()."
   ]
  },
  {
   "cell_type": "markdown",
   "metadata": {},
   "source": [
    "# Building a Univariate Gaussian Classifier"
   ]
  },
  {
   "cell_type": "markdown",
   "metadata": {},
   "source": [
    "Here we create and plot the target data."
   ]
  },
  {
   "cell_type": "code",
   "execution_count": 2,
   "metadata": {},
   "outputs": [
    {
     "data": {
      "image/png": "[encoded data removed]",
      "text/plain": [
       "<Figure size 432x288 with 1 Axes>"
      ]
     },
     "metadata": {
      "needs_background": "light"
     },
     "output_type": "display_data"
    }
   ],
   "source": [
    "import numpy as np\n",
    "import matplotlib.pyplot as plt\n",
    "\n",
    "num_samples = 50\n",
    "x = np.arange(0,20,.01)\n",
    "\n",
    "mean_classA = 9\n",
    "mean_classB = 12\n",
    "var_classA = .5\n",
    "var_classB = 1\n",
    "\n",
    "classA = np.vstack((np.random.normal(mean_classA,var_classA,num_samples),np.zeros(num_samples)))\n",
    "classB = np.vstack((np.random.normal(mean_classB,var_classB,num_samples),np.ones(num_samples)))\n",
    "\n",
    "data = np.hstack((classA,classB))\n",
    "\n",
    "plt.plot(data[0,data[1,:]==0],np.zeros(num_samples), 's', label =\"class A\")\n",
    "plt.plot(data[0,data[1,:]==1],np.zeros(num_samples), 's', label =\"class B\")\n",
    "\n",
    "plt.legend()\n",
    "plt.show()"
   ]
  },
  {
   "cell_type": "markdown",
   "metadata": {},
   "source": [
    "## 1.1 Implement the functions to compute the parameters:"
   ]
  },
  {
   "cell_type": "code",
   "execution_count": 795,
   "metadata": {},
   "outputs": [],
   "source": [
    "def get_mean_mle(d):\n",
    "    # your code goes here..\n",
    "    return pass\n",
    "\n",
    "def get_sigma_mle(d):\n",
    "    # your code goes here..\n",
    "    return pass\n"
   ]
  },
  {
   "cell_type": "markdown",
   "metadata": {},
   "source": [
    "## 1.2. Implement Gaussian\n",
    "So that you can use it to visualize the pdf of your distributions."
   ]
  },
  {
   "cell_type": "code",
   "execution_count": 26,
   "metadata": {},
   "outputs": [],
   "source": [
    "def gaussian(x,mean,variance): \n",
    "    # your code goes here..\n",
    "    return pass"
   ]
  },
  {
   "cell_type": "markdown",
   "metadata": {},
   "source": [
    "## 1.3 MLE step\n",
    "Do the actual parameter computation here:\n",
    "\n",
    "- split datset according to class labels\n",
    "\n",
    "- compute means and variances for both classes\n",
    "\n",
    "- since we know the true parameters you can check if they (roughly) match"
   ]
  },
  {
   "cell_type": "code",
   "execution_count": 27,
   "metadata": {},
   "outputs": [],
   "source": [
    "sigma_A = ...\n",
    "mu_A = ...\n",
    "\n",
    "sigma_B = ...\n",
    "mu_A = ..."
   ]
  },
  {
   "cell_type": "markdown",
   "metadata": {},
   "source": [
    "## 1.4 Visualize Classifier\n",
    "Plot the pdfs of both distributions on top of the data."
   ]
  },
  {
   "cell_type": "code",
   "execution_count": null,
   "metadata": {},
   "outputs": [],
   "source": [
    "plt.plot(samples_classA,np.zeros(len(samples_classA)), 's', label =\"data A\")\n",
    "plt.plot(samples_classB,np.zeros(len(samples_classB)), 's', label =\"data B\")\n",
    "#add plottting your gaussians here..\n",
    "\n",
    "\n",
    "plt.legend()\n",
    "plt.show()"
   ]
  },
  {
   "cell_type": "markdown",
   "metadata": {},
   "source": [
    "## 1.5 Define a classification rule\n",
    "Define a funtion that returns for a given value of x the class label.\n",
    "Note that this function only needs to decide if the current x belongs to class A - so we return True if x is of class A and false otherwise. \n",
    "\n",
    "If you prefer [0,1] as outputs that is alright as well. So either [True,False] or [1,0].\n",
    "\n",
    "Not [A,B] or [classA, classB] or something else."
   ]
  },
  {
   "cell_type": "code",
   "execution_count": 38,
   "metadata": {},
   "outputs": [],
   "source": [
    "def classifyA(x, mu1,sigma1,mu2,sigma2):\n",
    "    # your code goes here..\n",
    "    return pass\n",
    "\n"
   ]
  },
  {
   "cell_type": "markdown",
   "metadata": {},
   "source": [
    "## 1.7 Printing Decision Boundary\n",
    "The following script just uses your classifyA(..) function an colors the background accordingly.\n",
    "\n",
    "In order for this to work your classifyA function hast to work with vectors for x not just single scalars. "
   ]
  },
  {
   "cell_type": "code",
   "execution_count": 803,
   "metadata": {},
   "outputs": [
    {
     "data": {
      "image/png": "[encoded data removed]",
      "text/plain": [
       "<Figure size 432x288 with 1 Axes>"
      ]
     },
     "metadata": {
      "needs_background": "light"
     },
     "output_type": "display_data"
    }
   ],
   "source": [
    "x = np.arange(0,20,0.05)\n",
    "y = np.arange(0,1.5,0.1)\n",
    "X,Y = np.meshgrid(x,y)\n",
    "\n",
    "Z = classifyA(x, mu_A,sigma_A,mu_B,sigma_B).reshape(-1,1)\n",
    "z = np.repeat(Z,len(y), axis=1).transpose()\n",
    "\n",
    "ax = plt.gca()\n",
    "ax.plot(samples_classA,np.zeros(len(samples_classA)), 's', label =\"data A\")\n",
    "ax.plot(x,gaussian(x,mu_A, sigma_A), label =\"pdf A\")\n",
    "ax.plot(samples_classB,np.zeros(len(samples_classB)), 's', label =\"data B\")\n",
    "ax.plot(x,gaussian(x,mu_B, sigma_B), label =\"pdf B\")\n",
    "\n",
    "ax.contourf(X,Y,z,1)\n",
    "\n",
    "ax.legend()\n",
    "ax.set_xlim([5, 15])\n",
    "ax.set_ylim([0, 1])\n",
    "plt.show()"
   ]
  },
  {
   "cell_type": "markdown",
   "metadata": {},
   "source": [
    "## 1.8 Evaluate Classifier\n",
    "Here you have to\n",
    "\n",
    "1. choose a measure to assess the performance of you classifier - argue why it is a suitable choice.\n",
    "\n",
    "2. can your measure help you improofe your classifier? if so - how?\n",
    "\n",
    "3. try to improve it."
   ]
  },
  {
   "cell_type": "markdown",
   "metadata": {},
   "source": [
    "# 2 Bivariate Gaussian Classifier"
   ]
  },
  {
   "cell_type": "markdown",
   "metadata": {},
   "source": [
    "In the multivariate case the probability density function of the Gaussian distribution is given by:\n",
    "\\begin{equation}\n",
    "\\mathcal{N}(x\\mid \\boldsymbol\\mu, \\boldsymbol\\Sigma)=\\frac{1}{\\sqrt{(2\\pi)^k|\\boldsymbol\\Sigma|}}\n",
    "\\exp\\left(-\\frac{1}{2}({x}-{\\boldsymbol\\mu})^T{\\boldsymbol\\Sigma}^{-1}({x}-{\\boldsymbol\\mu})\n",
    "\\right)\n",
    "\\end{equation}\n",
    "\n",
    "In the two dimensional setting we need to compute the Gaussian parameters $\\Theta = (\\boldsymbol\\mu,\\boldsymbol\\Sigma)$ (for each of the two classes). \n",
    "\n",
    "The two dimensional mean $\\boldsymbol\\mu = (\\mu_1, \\mu_2)$ and $\\Sigma$ the covariance matrix is given by\n",
    "\n",
    "\\begin{equation}\n",
    "\\Sigma =\n",
    "\\begin{vmatrix}\n",
    "\\sigma_{11}&\\sigma_{12}\\\\\n",
    "\\sigma_{21}&\\sigma_{22}\\\\\n",
    "\\end{vmatrix}\n",
    "\\end{equation}\n",
    "\n",
    "we here insist, that $\\Sigma$ is symmetric and non-negative.\n",
    "This mean especially that the terms $\\sigma_{12}$ and $\\sigma_{21}$ are equal.\n",
    "\n",
    "We will here use the following equations to compute the mean and variances for this classifier\n",
    "\\begin{equation}\n",
    "\\boldsymbol\\mu = \\frac{1}{N}\\sum_{n=1}^{N}{\\mathbf{x}_n}\n",
    "\\end{equation}\n",
    "\n",
    "\n",
    "\\begin{equation}\n",
    "\\Sigma = \\frac{1}{N}\\sum_{n=1}^{N}{(\\mathbf{x}_{n}-\\boldsymbol\\mu)(\\mathbf{x}_{n}-\\boldsymbol\\mu)^T}\n",
    "\\end{equation}\n",
    "\n",
    "where we can compute each of the terms in $\\Sigma$ by using\n",
    "\\begin{equation}\n",
    "\\sigma_{ij} = \\frac{1}{N}\\sum_{n=1}^{N}{(x_{ni}-\\mu_i)(x_{nj}-\\mu_j)}\n",
    "\\end{equation}"
   ]
  },
  {
   "cell_type": "markdown",
   "metadata": {},
   "source": [
    "Your task is as in the one dimensional case to:\n",
    "\n",
    "- compute the parameters\n",
    "\n",
    "- classify data points\n",
    "\n",
    "- choose and compute a suitable performance score\n"
   ]
  },
  {
   "cell_type": "markdown",
   "metadata": {},
   "source": [
    "First we get some data:"
   ]
  },
  {
   "cell_type": "code",
   "execution_count": 32,
   "metadata": {},
   "outputs": [
    {
     "data": {
      "text/plain": [
       "<matplotlib.collections.PathCollection at 0x11e6808d0>"
      ]
     },
     "execution_count": 32,
     "metadata": {},
     "output_type": "execute_result"
    },
    {
     "data": {
      "image/png": "[encoded data removed]",
      "text/plain": [
       "<Figure size 432x288 with 1 Axes>"
      ]
     },
     "metadata": {
      "needs_background": "light"
     },
     "output_type": "display_data"
    }
   ],
   "source": [
    "import sklearn.datasets \n",
    "data, label = sklearn.datasets.make_blobs(n_samples=80, centers=2, n_features=2,random_state=0)\n",
    "plt.scatter(data[:,0],data[:,1],c=label, cmap = \"Paired\")"
   ]
  },
  {
   "cell_type": "code",
   "execution_count": 13,
   "metadata": {},
   "outputs": [],
   "source": [
    "import numpy as np"
   ]
  },
  {
   "cell_type": "markdown",
   "metadata": {},
   "source": [
    "## 2.1 Implement MLE parameter estimation\n",
    "Here you have to implement the gievn equations.\n",
    "\n"
   ]
  },
  {
   "cell_type": "code",
   "execution_count": 14,
   "metadata": {},
   "outputs": [],
   "source": [
    "def mu(data):\n",
    "    # your code goes here..\n",
    "    return pass\n",
    "\n",
    "def cov(data):\n",
    "    # your code goes here..\n",
    "    return pass\n"
   ]
  },
  {
   "cell_type": "code",
   "execution_count": 33,
   "metadata": {},
   "outputs": [],
   "source": [
    "mu_A = ...\n",
    "cov_A = ...\n",
    "\n",
    "mu_B = ...\n",
    "cov_B = ..."
   ]
  },
  {
   "cell_type": "markdown",
   "metadata": {},
   "source": [
    "## 2.2 Visualize classifier\n",
    "\n",
    "There should be nothing to do here.\n",
    "\n",
    "It relies on mu_A,cov_A,mu_B,cov_B beeing implemented correctly.\n",
    "They are directly feed to scipy.stats.multivariate_normal function. This means you do not have to implement the bivariate Gaussian yourself.\n",
    "\n",
    "If you are unsure about how they should look like you can find a description here : https://docs.scipy.org/doc/scipy-0.14.0/reference/generated/scipy.stats.multivariate_normal.html\n"
   ]
  },
  {
   "cell_type": "markdown",
   "metadata": {},
   "source": [
    "The following script plots the data points, the computed distribution and the descision boundary."
   ]
  },
  {
   "cell_type": "code",
   "execution_count": null,
   "metadata": {},
   "outputs": [],
   "source": [
    "import matplotlib.pyplot as plt\n",
    "from scipy.stats import multivariate_normal\n",
    "\n",
    "res = 500\n",
    "maxs = data.max(axis=0)*1.1\n",
    "mins = data.min(axis=0)*1.1\n",
    "\n",
    "x = np.linspace(mins[0],maxs[0],res)\n",
    "y = np.linspace(mins[1],maxs[1],res)\n",
    "X,Y = np.meshgrid(x,y)\n",
    "\n",
    "pos = np.array([X.flatten(),Y.flatten()]).T\n",
    "\n",
    "distA = multivariate_normal(mu_A, cov_A)\n",
    "distB = multivariate_normal(mu_B, cov_B)\n",
    "\n",
    "fig = plt.figure(figsize=(12, 12))\n",
    "ax = plt.gca()\n",
    "\n",
    "#data points\n",
    "plt.plot(samples_A[0,:],samples_A[1,:], '.', label =\"data class A\")\n",
    "plt.plot(samples_B[0,:],samples_B[1,:], '.', label =\"data class B\")\n",
    "\n",
    "# pdfs\n",
    "ax.contour(X,Y, distA.pdf(pos).reshape(res,res))\n",
    "ax.contour(X,Y, distB.pdf(pos).reshape(res,res))\n",
    "\n",
    "#decision boundary\n",
    "def classifyBivariate(x,dist1,dist2):\n",
    "    return dist1.pdf(x) > dist2.pdf(x)\n",
    "Z = classifyBivariate(pos,distA,distB)\n",
    "ax.contourf(X,Y,Z.reshape(res,res), cmap='Paired')\n",
    "\n",
    "plt.legend()\n",
    "plt.show()\n"
   ]
  },
  {
   "cell_type": "markdown",
   "metadata": {},
   "source": [
    "## 2.2 Questions\n",
    "\n",
    "1. Does the classifier work as expected?\n",
    "\n",
    "2. What can you do to improve it?"
   ]
  }
 ],
 "metadata": {
  "kernelspec": {
   "display_name": "Python 3",
   "language": "python",
   "name": "python3"
  },
  "language_info": {
   "codemirror_mode": {
    "name": "ipython",
    "version": 2
   },
   "file_extension": ".py",
   "mimetype": "text/x-python",
   "name": "python",
   "nbconvert_exporter": "python",
   "pygments_lexer": "ipython2",
   "version": "2.7.17"
  }
 },
 "nbformat": 4,
 "nbformat_minor": 2
}
